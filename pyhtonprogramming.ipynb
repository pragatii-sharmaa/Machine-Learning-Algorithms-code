{
  "nbformat": 4,
  "nbformat_minor": 0,
  "metadata": {
    "colab": {
      "provenance": [],
      "authorship_tag": "ABX9TyMR31RuL6CDN1T3hIecz+uU",
      "include_colab_link": true
    },
    "kernelspec": {
      "name": "python3",
      "display_name": "Python 3"
    },
    "language_info": {
      "name": "python"
    }
  },
  "cells": [
    {
      "cell_type": "markdown",
      "metadata": {
        "id": "view-in-github",
        "colab_type": "text"
      },
      "source": [
        "<a href=\"https://colab.research.google.com/github/pragatii-sharmaa/AI-ML-codes/blob/main/pyhtonprogramming.ipynb\" target=\"_parent\"><img src=\"https://colab.research.google.com/assets/colab-badge.svg\" alt=\"Open In Colab\"/></a>"
      ]
    },
    {
      "cell_type": "code",
      "source": [
        "print(\"hello boo\")\n",
        "print(7)\n",
        "print(True)"
      ],
      "metadata": {
        "id": "9i0l-7iGrZzh",
        "colab": {
          "base_uri": "https://localhost:8080/"
        },
        "outputId": "dae9fb19-4dfd-4951-8640-ec7e526c9693"
      },
      "execution_count": null,
      "outputs": [
        {
          "output_type": "stream",
          "name": "stdout",
          "text": [
            "hello boo\n",
            "7\n",
            "True\n"
          ]
        }
      ]
    },
    {
      "cell_type": "code",
      "source": [
        "a='pragati'\n",
        "print(a)"
      ],
      "metadata": {
        "id": "CAprMvUdrpKA",
        "colab": {
          "base_uri": "https://localhost:8080/"
        },
        "outputId": "1df086e5-fc0f-4474-a655-bb525d307c75"
      },
      "execution_count": null,
      "outputs": [
        {
          "output_type": "stream",
          "name": "stdout",
          "text": [
            "pragati\n"
          ]
        }
      ]
    },
    {
      "cell_type": "code",
      "source": [
        "num1= input('enter num1 ')\n",
        "num2= input('enter num2 ')\n",
        "print(num1,num2)\n",
        "print(int(num1)+int(num2))\n",
        "int(5.6)"
      ],
      "metadata": {
        "colab": {
          "base_uri": "https://localhost:8080/"
        },
        "id": "OiH6Wmt52gNR",
        "outputId": "4e5e6ddb-9b4b-4644-ee06-7c40cc92dc29"
      },
      "execution_count": null,
      "outputs": [
        {
          "output_type": "stream",
          "name": "stdout",
          "text": [
            "enter num1 7\n",
            "enter num2 9\n",
            "7 9\n",
            "16\n"
          ]
        },
        {
          "output_type": "execute_result",
          "data": {
            "text/plain": [
              "5"
            ]
          },
          "metadata": {},
          "execution_count": 10
        }
      ]
    },
    {
      "cell_type": "code",
      "source": [
        "print('delhi'+' mumbai')\n",
        "print ('delhi '*6)\n",
        "print('  *')\n",
        "print(' * *')\n",
        "print('* * *')"
      ],
      "metadata": {
        "id": "KJ_TaGxS8GDE",
        "colab": {
          "base_uri": "https://localhost:8080/"
        },
        "outputId": "04c16208-6fc8-4824-9930-e15c304ae23d"
      },
      "execution_count": null,
      "outputs": [
        {
          "output_type": "stream",
          "name": "stdout",
          "text": [
            "delhi mumbai\n",
            "delhi delhi delhi delhi delhi delhi \n",
            "  *\n",
            " * *\n",
            "* * *\n"
          ]
        }
      ]
    },
    {
      "cell_type": "code",
      "source": [
        "for i in 'delhi':\n",
        "  print('pune')"
      ],
      "metadata": {
        "colab": {
          "base_uri": "https://localhost:8080/"
        },
        "id": "xlx1ly44i0LT",
        "outputId": "7bedcef4-ba03-4ea5-98f8-d599e5abeaff"
      },
      "execution_count": null,
      "outputs": [
        {
          "output_type": "stream",
          "name": "stdout",
          "text": [
            "pune\n",
            "pune\n",
            "pune\n",
            "pune\n",
            "pune\n"
          ]
        }
      ]
    },
    {
      "cell_type": "code",
      "source": [
        "list=[1,2,3,'alice',['bob',1.5]]\n",
        "print(list[2])\n",
        "print(list)"
      ],
      "metadata": {
        "id": "ergDsK8rpJOM",
        "colab": {
          "base_uri": "https://localhost:8080/"
        },
        "outputId": "d286a7c7-5042-4123-e16b-42165e9fefb7"
      },
      "execution_count": null,
      "outputs": [
        {
          "output_type": "stream",
          "name": "stdout",
          "text": [
            "3\n",
            "[1, 2, 3, 'alice', ['bob', 1.5]]\n"
          ]
        }
      ]
    },
    {
      "cell_type": "code",
      "source": [
        "list=[1,2,'alice',9.5,['bob']]\n",
        "print(list)\n",
        "list.append('true')\n",
        "print(list)\n",
        "list.extend(['charlie','delta'])\n",
        "print(list)\n",
        "list.insert(3,'bravo')\n",
        "print(list)"
      ],
      "metadata": {
        "colab": {
          "base_uri": "https://localhost:8080/"
        },
        "id": "QCW-DPQDELqV",
        "outputId": "851d187c-c89e-4ea4-a68e-218f41068278"
      },
      "execution_count": null,
      "outputs": [
        {
          "output_type": "stream",
          "name": "stdout",
          "text": [
            "[1, 2, 'alice', 9.5, ['bob']]\n",
            "[1, 2, 'alice', 9.5, ['bob'], 'true']\n",
            "[1, 2, 'alice', 9.5, ['bob'], 'true', 'charlie', 'delta']\n",
            "[1, 2, 'alice', 'bravo', 9.5, ['bob'], 'true', 'charlie', 'delta']\n"
          ]
        }
      ]
    },
    {
      "cell_type": "code",
      "source": [
        "fs = frozenset([1, 2, 3])\n",
        "print(fs)\n"
      ],
      "metadata": {
        "id": "_-rEDFAdI2EQ",
        "outputId": "f8065e53-d358-43bf-e10a-2c648c56039a",
        "colab": {
          "base_uri": "https://localhost:8080/"
        }
      },
      "execution_count": null,
      "outputs": [
        {
          "output_type": "stream",
          "name": "stdout",
          "text": [
            "frozenset({1, 2, 3})\n"
          ]
        }
      ]
    },
    {
      "cell_type": "code",
      "source": [
        "student={'name':\"alice\", \"age\": \"21\", \"course\": \"CSE\"}\n",
        "print(student)\n",
        "print(student.get(\"name\"))  # Alice\n",
        "print(student[\"age\"])  # 21\n",
        "print(student.get(\"gender\", \"Not Found\"))  # Returns 'Not Found' if key does not exist\n",
        "student[\"age\"] = 22  # Update value\n",
        "student[\"city\"] = \"New York\"  # Add new key-value pair\n",
        "print(student)\n",
        "student.pop(\"age\")  # Removes 'age' key\n",
        "del student[\"city\"]  # Deletes 'city' key\n",
        "#student.clear()  # Empties dictionary\n",
        "print(student)\n"
      ],
      "metadata": {
        "id": "Spc_HAGHOk16",
        "colab": {
          "base_uri": "https://localhost:8080/"
        },
        "outputId": "3f79133e-a7d9-4066-ca5d-0f81acd2a4c0"
      },
      "execution_count": null,
      "outputs": [
        {
          "output_type": "stream",
          "name": "stdout",
          "text": [
            "{'name': 'alice', 'age': '21', 'course': 'CSE'}\n",
            "alice\n",
            "21\n",
            "Not Found\n",
            "{'name': 'alice', 'age': 22, 'course': 'CSE', 'city': 'New York'}\n",
            "{'name': 'alice', 'course': 'CSE'}\n"
          ]
        }
      ]
    },
    {
      "cell_type": "code",
      "source": [
        "student={'name':\"alice\", \"age\": \"21\", \"course\": \"CSE\"}\n",
        "for key, value in student.items():\n",
        "    print(key, \":\", value)\n"
      ],
      "metadata": {
        "colab": {
          "base_uri": "https://localhost:8080/"
        },
        "id": "sRz2nTz5mLqL",
        "outputId": "948813f4-769d-426a-9587-f3aa44a36662"
      },
      "execution_count": null,
      "outputs": [
        {
          "output_type": "stream",
          "name": "stdout",
          "text": [
            "name : alice\n",
            "age : 21\n",
            "course : CSE\n"
          ]
        }
      ]
    },
    {
      "cell_type": "code",
      "source": [
        "from collections import defaultdict\n",
        "dd = defaultdict(int)  # Default value for missing keys is 0\n",
        "dd[\"x\"] += 1\n",
        "print(dd[\"x\"])  # 1\n",
        "print(dd[\"y\"])  # 0 (default value)\n"
      ],
      "metadata": {
        "colab": {
          "base_uri": "https://localhost:8080/"
        },
        "id": "WKa0flPfri9b",
        "outputId": "1f84281c-683d-44b0-9efd-3a2fcdae6b76"
      },
      "execution_count": null,
      "outputs": [
        {
          "output_type": "stream",
          "name": "stdout",
          "text": [
            "1\n",
            "0\n"
          ]
        }
      ]
    },
    {
      "cell_type": "code",
      "source": [
        "def greet(name):\n",
        "    return f\"Hello, {name}!\"\n",
        "\n",
        "print(greet(\"boo\"))  # Output: Hello, Alice!\n",
        "\n"
      ],
      "metadata": {
        "colab": {
          "base_uri": "https://localhost:8080/"
        },
        "id": "UKBH_juvtyGM",
        "outputId": "4a6d9fed-ff71-4707-a524-1b6d566f5170"
      },
      "execution_count": null,
      "outputs": [
        {
          "output_type": "stream",
          "name": "stdout",
          "text": [
            "Hello, boo!\n"
          ]
        }
      ]
    },
    {
      "cell_type": "code",
      "source": [
        "from functools import reduce\n",
        "\n",
        "nums = [1, 2, 3, 4]\n",
        "sum_all = reduce(lambda x, y: x + y, nums)\n",
        "print(sum_all)  # Output: 10\n"
      ],
      "metadata": {
        "colab": {
          "base_uri": "https://localhost:8080/"
        },
        "id": "Abir0QOVxpFV",
        "outputId": "a16aa3ef-8205-4450-d3b1-2b86c115d81d"
      },
      "execution_count": null,
      "outputs": [
        {
          "output_type": "stream",
          "name": "stdout",
          "text": [
            "10\n"
          ]
        }
      ]
    },
    {
      "cell_type": "code",
      "source": [],
      "metadata": {
        "id": "oc8JfPYi5HmA"
      },
      "execution_count": null,
      "outputs": []
    }
  ]
}